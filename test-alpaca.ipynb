{
 "cells": [
  {
   "cell_type": "code",
   "execution_count": 10,
   "id": "1d277a6e",
   "metadata": {
    "scrolled": true
   },
   "outputs": [
    {
     "name": "stderr",
     "output_type": "stream",
     "text": [
      "GPTNeoXGPTQForCausalLM hasn't fused attention module yet, will skip inject fused attention.\n",
      "GPTNeoXGPTQForCausalLM hasn't fused mlp module yet, will skip inject fused mlp.\n",
      "The model 'GPTNeoXGPTQForCausalLM' is not supported for text-generation. Supported models are ['BartForCausalLM', 'BertLMHeadModel', 'BertGenerationDecoder', 'BigBirdForCausalLM', 'BigBirdPegasusForCausalLM', 'BioGptForCausalLM', 'BlenderbotForCausalLM', 'BlenderbotSmallForCausalLM', 'BloomForCausalLM', 'CamembertForCausalLM', 'CodeGenForCausalLM', 'CpmAntForCausalLM', 'CTRLLMHeadModel', 'Data2VecTextForCausalLM', 'ElectraForCausalLM', 'ErnieForCausalLM', 'GitForCausalLM', 'GPT2LMHeadModel', 'GPT2LMHeadModel', 'GPTBigCodeForCausalLM', 'GPTNeoForCausalLM', 'GPTNeoXForCausalLM', 'GPTNeoXJapaneseForCausalLM', 'GPTJForCausalLM', 'LlamaForCausalLM', 'MarianForCausalLM', 'MBartForCausalLM', 'MegaForCausalLM', 'MegatronBertForCausalLM', 'MvpForCausalLM', 'OpenLlamaForCausalLM', 'OpenAIGPTLMHeadModel', 'OPTForCausalLM', 'PegasusForCausalLM', 'PLBartForCausalLM', 'ProphetNetForCausalLM', 'QDQBertLMHeadModel', 'ReformerModelWithLMHead', 'RemBertForCausalLM', 'RobertaForCausalLM', 'RobertaPreLayerNormForCausalLM', 'RoCBertForCausalLM', 'RoFormerForCausalLM', 'RwkvForCausalLM', 'Speech2Text2ForCausalLM', 'TransfoXLLMHeadModel', 'TrOCRForCausalLM', 'XGLMForCausalLM', 'XLMWithLMHeadModel', 'XLMProphetNetForCausalLM', 'XLMRobertaForCausalLM', 'XLMRobertaXLForCausalLM', 'XLNetLMHeadModel', 'XmodForCausalLM'].\n"
     ]
    }
   ],
   "source": [
    "import torch\n",
    "from transformers import pipeline\n",
    "from auto_gptq import AutoGPTQForCausalLM\n",
    "MODEL = 'beomi/KoAlpaca-Polyglot-12.8B'\n",
    "QUANT_MODEL = '/data/koalpaca-4bit'\n",
    "\n",
    "model = AutoGPTQForCausalLM.from_quantized(QUANT_MODEL, device=\"cuda:0\", use_triton=False)\n",
    "\n",
    "pipe = pipeline('text-generation', model=model,tokenizer=MODEL,device=0)\n",
    "\n",
    "def ask(x, context='', is_input_full=False):\n",
    "    ans = pipe(\n",
    "        f\"### 질문: {x}\\n\\n### 맥락: {context}\\n\\n### 답변:\" if context else f\"### 질문: {x}\\n\\n### 답변:\", \n",
    "        do_sample=True,\n",
    "        max_new_tokens=512,\n",
    "        temperature=0.7,\n",
    "        top_p=0.9,\n",
    "        return_full_text=False,\n",
    "        eos_token_id=2,\n",
    "    )\n",
    "    print(ans[0]['generated_text'])"
   ]
  },
  {
   "cell_type": "code",
   "execution_count": 11,
   "id": "e18371ef",
   "metadata": {},
   "outputs": [
    {
     "name": "stderr",
     "output_type": "stream",
     "text": [
      "Setting `pad_token_id` to `eos_token_id`:2 for open-end generation.\n"
     ]
    },
    {
     "name": "stdout",
     "output_type": "stream",
     "text": [
      "  � m  m   그러    m 타율  s m m      m     m m            m      �  p   그러        그러 m  s 그러  타율 m  m           m  m       m       m  s     m       m  �   m  타율  m      m  m  m  m   m       m  m 타율 s    p        m    m �       타율 타율 타율   m p m  m 타율      m      m m  p m     p     m  s     � �    m   m      타율   m      m m p  타율        그러         � 타율  m 타율   m m       m   타율   m  m   그러 m    m    m p m    m    � m    m      m   m     �   m        m     p 그러     �              m      m        m    s 타율  p            m           m            �        s         m  �  m         m    m            m  m        m 타율       m        m 타율       s    �  � 그러  m      그러 m m 타율 그러 \n"
     ]
    }
   ],
   "source": [
    "ask(\"백종원의 증조할아버지는 누구?\")"
   ]
  },
  {
   "cell_type": "code",
   "execution_count": 8,
   "id": "a8de088f-8d66-4bd7-9b0e-7cdcd7dbbaaa",
   "metadata": {},
   "outputs": [],
   "source": [
    "instruction = \"\"\"\n",
    "백종원은 1966년 충남 예산군에서 집안의 종손으로 태어났다. 중학교 시절 상경해 강남 8학군 서울고등학교[23]를 졸업하고 연세대학교에 입학했다. 고등학교 졸업 직후엔 잠시 서울특별시 장한평에 위치한 중고차 시장에서 자동차 중개업자로 활동하기도 했다.\n",
    "2019년, KBS의 토크쇼 프로그램인 대화의 희열에 출연하여 어렸을 적 이야기를 많이 했는데, 만석꾼이었던 증조할아버지 백영기(白榮基)의 피를 이어받은 영향인지 어렸을 때부터 장사꾼 기질이 있다고 스스로 자각하고 있었다고 한다.\n",
    "9살 때에는 산에 놀러갔다가 본 버섯 농장에서 별다른 투자도 안 한 거 같은데 돈이 된다는 이야기를 듣고 꿈을 버섯 농사로 정한 적도 있었고, 초등학교 4학년때는 캔이 아닌 병에 음료가 나올 시절에 음료수 병을 보고 '저게 돈이 될 것 같다'고 생각해 학교 리어카를 빌려 오락 시간과 보물찾기 같은 시간을 다 건너뛰고 리어카 6개 분량의 공병을 모아서 고물상에 갖다 팔아 큰 돈을 벌었다고 한다.\n",
    "그리고 5학년 1학기까지 이렇게 돈을 벌었고, 방위성금으로 다 냈다고 한다. \n",
    "\"\"\""
   ]
  },
  {
   "cell_type": "code",
   "execution_count": 9,
   "id": "c7b94df3-3ac8-421b-8594-bd1065f7b1ed",
   "metadata": {},
   "outputs": [
    {
     "name": "stderr",
     "output_type": "stream",
     "text": [
      "Setting `pad_token_id` to `eos_token_id`:2 for open-end generation.\n"
     ]
    },
    {
     "name": "stdout",
     "output_type": "stream",
     "text": [
      "백   m       m   타율       � p    m � 타율   m   m    타율                 m          m    m           m   s        m 타율   p        p m  m       s m  m  m p    m   m      m   �    � m     m     m   m  � m    타율   m   m m     m    m           m  m  m    �  그러 m  m m           m 타율     m     m   m  m  m m m  타율           그러     m   타율    m      s m   s   그러     타율   m   m   m  m m     타율   m      m   p         m     m   m  p        m    m �   �      s  m     m       m  m         p m    m     타율 m      m    m m   m m � m            � 타율       m   �    m    m      m  �  m m m  m  �                m    p   m    �    타율     m   타율         타율              m m  m  \n"
     ]
    }
   ],
   "source": [
    "ask(\"백종원의 증조할아버지는 누구?\",context=instruction)"
   ]
  },
  {
   "cell_type": "code",
   "execution_count": 5,
   "id": "ed520b49-2373-47ce-8b06-8b58121d104f",
   "metadata": {},
   "outputs": [],
   "source": [
    "instruction = \"\"\"\n",
    "손흥민(한국 한자: 孫興慜, 1992년 7월 8일 ~ )은 대한민국의 축구 선수로 현재 잉글랜드 프리미어리그 토트넘 홋스퍼에서 윙어로 활약하고 있다.\n",
    "또한 대한민국 축구 국가대표팀의 주장이자 2018년 아시안 게임 금메달리스트이며 영국에서는 애칭인 \"쏘니\"(Sonny)로 불린다.\n",
    "아시아 선수로서는 역대 최초로 프리미어리그 공식 베스트 일레븐과 아시아 선수 최초의 프리미어리그 득점왕은 물론 FIFA 푸스카스상까지 휩쓸었고 2022년에는 축구 선수로는 최초로 체육훈장 청룡장 수훈자가 되었다.\n",
    "손흥민은 현재 리그 100호를 넣어서 화제가 되고 있다.\n",
    "\"\"\""
   ]
  },
  {
   "cell_type": "code",
   "execution_count": 6,
   "id": "e9c71f48-4655-4a1d-b5fd-1653afe4a7e3",
   "metadata": {},
   "outputs": [
    {
     "name": "stderr",
     "output_type": "stream",
     "text": [
      "Setting `pad_token_id` to `eos_token_id`:2 for open-end generation.\n"
     ]
    },
    {
     "name": "stdout",
     "output_type": "stream",
     "text": [
      "손흥민의 애칭은 \"쏘니\" 혹은 \"Sonny\"입니다. \"Son\"은 한국말로 치면 성이고, \"Heung-min\"을 빨리 쓰면 \"Son Heung-min\"이 되는데 이것을 빨리 말하면 \"쏘니\"가 됩니다. 또한, 영국에서는 \"Sonny\"라는 애칭으로 불리기도 합니다. \"Heung-min\"을 빨리 쓰면 \"Heung-minh\"이 되는데 이것을 빨리 말하면 \"흥민\"이 됩니다. \n"
     ]
    }
   ],
   "source": [
    "ask(\"손흥민의 애칭은 뭐야?\",context=instruction)"
   ]
  },
  {
   "cell_type": "code",
   "execution_count": null,
   "id": "92ff1e26-78d7-4d55-ba98-32997960ffaa",
   "metadata": {},
   "outputs": [],
   "source": []
  }
 ],
 "metadata": {
  "kernelspec": {
   "display_name": "Python 3 (ipykernel)",
   "language": "python",
   "name": "python3"
  },
  "language_info": {
   "codemirror_mode": {
    "name": "ipython",
    "version": 3
   },
   "file_extension": ".py",
   "mimetype": "text/x-python",
   "name": "python",
   "nbconvert_exporter": "python",
   "pygments_lexer": "ipython3",
   "version": "3.9.16"
  }
 },
 "nbformat": 4,
 "nbformat_minor": 5
}
